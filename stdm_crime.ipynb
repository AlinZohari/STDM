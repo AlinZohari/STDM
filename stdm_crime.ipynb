{
 "cells": [
  {
   "attachments": {},
   "cell_type": "markdown",
   "metadata": {},
   "source": [
    "## 1. Importing Data"
   ]
  },
  {
   "cell_type": "code",
   "execution_count": 85,
   "metadata": {},
   "outputs": [],
   "source": [
    "#importing libraries\n",
    "import pandas as pd\n",
    "import geopandas as gpd\n",
    "import matplotlib.pyplot as plt\n",
    "import seaborn as sns\n",
    "import numpy as np"
   ]
  },
  {
   "cell_type": "code",
   "execution_count": 86,
   "metadata": {},
   "outputs": [],
   "source": [
    "#adding data city of london\n",
    "may_21 = pd.read_csv('2021-05-city-of-london-street.csv')\n",
    "jun_21 = pd.read_csv('2021-06-city-of-london-street.csv')\n",
    "jul_21 = pd.read_csv('2021-07-city-of-london-street.csv')\n",
    "aug_21 = pd.read_csv('2021-08-city-of-london-street.csv')\n",
    "sep_21 = pd.read_csv('2021-09-city-of-london-street.csv')\n",
    "oct_21 = pd.read_csv('2021-10-city-of-london-street.csv')\n",
    "nov_21 = pd.read_csv('2021-11-city-of-london-street.csv')\n",
    "dec_21 = pd.read_csv('2021-12-city-of-london-street.csv')\n",
    "jan_22 = pd.read_csv('2022-01-city-of-london-street.csv')\n",
    "feb_22 = pd.read_csv('2022-02-city-of-london-street.csv')\n",
    "mar_22 = pd.read_csv('2022-03-city-of-london-street.csv')\n",
    "apr_22 = pd.read_csv('2022-04-city-of-london-street.csv')\n",
    "may_22 = pd.read_csv('2022-05-city-of-london-street.csv')"
   ]
  },
  {
   "attachments": {},
   "cell_type": "markdown",
   "metadata": {},
   "source": [
    "## 2. Preprocessing Data"
   ]
  },
  {
   "attachments": {},
   "cell_type": "markdown",
   "metadata": {},
   "source": [
    "combining all the months for easier handling"
   ]
  },
  {
   "cell_type": "code",
   "execution_count": 87,
   "metadata": {},
   "outputs": [],
   "source": [
    "data = pd.concat([may_21, jun_21 , jul_21, aug_21, sep_21, oct_21, nov_21, dec_21, jan_22, feb_22, mar_22, apr_22, may_22])"
   ]
  },
  {
   "attachments": {},
   "cell_type": "markdown",
   "metadata": {},
   "source": [
    "Looking at what column does the data have"
   ]
  },
  {
   "cell_type": "code",
   "execution_count": 88,
   "metadata": {},
   "outputs": [
    {
     "data": {
      "text/plain": [
       "Index(['Crime ID', 'Month', 'Reported by', 'Falls within', 'Longitude',\n",
       "       'Latitude', 'Location', 'LSOA code', 'LSOA name', 'Crime type',\n",
       "       'Last outcome category', 'Context'],\n",
       "      dtype='object')"
      ]
     },
     "execution_count": 88,
     "metadata": {},
     "output_type": "execute_result"
    }
   ],
   "source": [
    "data.columns"
   ]
  },
  {
   "attachments": {},
   "cell_type": "markdown",
   "metadata": {},
   "source": [
    "Dropping the unnecessary columns"
   ]
  },
  {
   "cell_type": "code",
   "execution_count": 89,
   "metadata": {},
   "outputs": [],
   "source": [
    "data = data.drop(data.columns[[0,2,3,10,11]],axis=1)\n",
    "#axis = 1 means that the operation are perform on the columns of the DataFrame"
   ]
  },
  {
   "cell_type": "code",
   "execution_count": 90,
   "metadata": {},
   "outputs": [
    {
     "data": {
      "text/html": [
       "<div>\n",
       "<style scoped>\n",
       "    .dataframe tbody tr th:only-of-type {\n",
       "        vertical-align: middle;\n",
       "    }\n",
       "\n",
       "    .dataframe tbody tr th {\n",
       "        vertical-align: top;\n",
       "    }\n",
       "\n",
       "    .dataframe thead th {\n",
       "        text-align: right;\n",
       "    }\n",
       "</style>\n",
       "<table border=\"1\" class=\"dataframe\">\n",
       "  <thead>\n",
       "    <tr style=\"text-align: right;\">\n",
       "      <th></th>\n",
       "      <th>Month</th>\n",
       "      <th>Longitude</th>\n",
       "      <th>Latitude</th>\n",
       "      <th>Location</th>\n",
       "      <th>LSOA code</th>\n",
       "      <th>LSOA name</th>\n",
       "      <th>Crime type</th>\n",
       "    </tr>\n",
       "  </thead>\n",
       "  <tbody>\n",
       "    <tr>\n",
       "      <th>0</th>\n",
       "      <td>2021-05</td>\n",
       "      <td>-0.109582</td>\n",
       "      <td>51.522017</td>\n",
       "      <td>On or near Clerkenwell Road</td>\n",
       "      <td>E01000916</td>\n",
       "      <td>Camden 027B</td>\n",
       "      <td>Drugs</td>\n",
       "    </tr>\n",
       "    <tr>\n",
       "      <th>1</th>\n",
       "      <td>2021-05</td>\n",
       "      <td>-0.111962</td>\n",
       "      <td>51.518494</td>\n",
       "      <td>On or near Nightclub</td>\n",
       "      <td>E01000914</td>\n",
       "      <td>Camden 028B</td>\n",
       "      <td>Public order</td>\n",
       "    </tr>\n",
       "    <tr>\n",
       "      <th>2</th>\n",
       "      <td>2021-05</td>\n",
       "      <td>-0.113256</td>\n",
       "      <td>51.516824</td>\n",
       "      <td>On or near Old Square</td>\n",
       "      <td>E01000914</td>\n",
       "      <td>Camden 028B</td>\n",
       "      <td>Theft from the person</td>\n",
       "    </tr>\n",
       "    <tr>\n",
       "      <th>3</th>\n",
       "      <td>2021-05</td>\n",
       "      <td>-0.097601</td>\n",
       "      <td>51.520699</td>\n",
       "      <td>On or near Carthusian Street</td>\n",
       "      <td>E01000001</td>\n",
       "      <td>City of London 001A</td>\n",
       "      <td>Anti-social behaviour</td>\n",
       "    </tr>\n",
       "    <tr>\n",
       "      <th>4</th>\n",
       "      <td>2021-05</td>\n",
       "      <td>-0.097736</td>\n",
       "      <td>51.520206</td>\n",
       "      <td>On or near Conference/Exhibition Centre</td>\n",
       "      <td>E01000001</td>\n",
       "      <td>City of London 001A</td>\n",
       "      <td>Anti-social behaviour</td>\n",
       "    </tr>\n",
       "    <tr>\n",
       "      <th>...</th>\n",
       "      <td>...</td>\n",
       "      <td>...</td>\n",
       "      <td>...</td>\n",
       "      <td>...</td>\n",
       "      <td>...</td>\n",
       "      <td>...</td>\n",
       "      <td>...</td>\n",
       "    </tr>\n",
       "    <tr>\n",
       "      <th>713</th>\n",
       "      <td>2022-05</td>\n",
       "      <td>NaN</td>\n",
       "      <td>NaN</td>\n",
       "      <td>No Location</td>\n",
       "      <td>NaN</td>\n",
       "      <td>NaN</td>\n",
       "      <td>Other crime</td>\n",
       "    </tr>\n",
       "    <tr>\n",
       "      <th>714</th>\n",
       "      <td>2022-05</td>\n",
       "      <td>NaN</td>\n",
       "      <td>NaN</td>\n",
       "      <td>No Location</td>\n",
       "      <td>NaN</td>\n",
       "      <td>NaN</td>\n",
       "      <td>Other crime</td>\n",
       "    </tr>\n",
       "    <tr>\n",
       "      <th>715</th>\n",
       "      <td>2022-05</td>\n",
       "      <td>NaN</td>\n",
       "      <td>NaN</td>\n",
       "      <td>No Location</td>\n",
       "      <td>NaN</td>\n",
       "      <td>NaN</td>\n",
       "      <td>Other crime</td>\n",
       "    </tr>\n",
       "    <tr>\n",
       "      <th>716</th>\n",
       "      <td>2022-05</td>\n",
       "      <td>NaN</td>\n",
       "      <td>NaN</td>\n",
       "      <td>No Location</td>\n",
       "      <td>NaN</td>\n",
       "      <td>NaN</td>\n",
       "      <td>Other crime</td>\n",
       "    </tr>\n",
       "    <tr>\n",
       "      <th>717</th>\n",
       "      <td>2022-05</td>\n",
       "      <td>NaN</td>\n",
       "      <td>NaN</td>\n",
       "      <td>No Location</td>\n",
       "      <td>NaN</td>\n",
       "      <td>NaN</td>\n",
       "      <td>Other crime</td>\n",
       "    </tr>\n",
       "  </tbody>\n",
       "</table>\n",
       "<p>8425 rows × 7 columns</p>\n",
       "</div>"
      ],
      "text/plain": [
       "       Month  Longitude   Latitude                                 Location  \\\n",
       "0    2021-05  -0.109582  51.522017              On or near Clerkenwell Road   \n",
       "1    2021-05  -0.111962  51.518494                     On or near Nightclub   \n",
       "2    2021-05  -0.113256  51.516824                    On or near Old Square   \n",
       "3    2021-05  -0.097601  51.520699             On or near Carthusian Street   \n",
       "4    2021-05  -0.097736  51.520206  On or near Conference/Exhibition Centre   \n",
       "..       ...        ...        ...                                      ...   \n",
       "713  2022-05        NaN        NaN                              No Location   \n",
       "714  2022-05        NaN        NaN                              No Location   \n",
       "715  2022-05        NaN        NaN                              No Location   \n",
       "716  2022-05        NaN        NaN                              No Location   \n",
       "717  2022-05        NaN        NaN                              No Location   \n",
       "\n",
       "     LSOA code            LSOA name             Crime type  \n",
       "0    E01000916          Camden 027B                  Drugs  \n",
       "1    E01000914          Camden 028B           Public order  \n",
       "2    E01000914          Camden 028B  Theft from the person  \n",
       "3    E01000001  City of London 001A  Anti-social behaviour  \n",
       "4    E01000001  City of London 001A  Anti-social behaviour  \n",
       "..         ...                  ...                    ...  \n",
       "713        NaN                  NaN            Other crime  \n",
       "714        NaN                  NaN            Other crime  \n",
       "715        NaN                  NaN            Other crime  \n",
       "716        NaN                  NaN            Other crime  \n",
       "717        NaN                  NaN            Other crime  \n",
       "\n",
       "[8425 rows x 7 columns]"
      ]
     },
     "execution_count": 90,
     "metadata": {},
     "output_type": "execute_result"
    }
   ],
   "source": [
    "data"
   ]
  },
  {
   "attachments": {},
   "cell_type": "markdown",
   "metadata": {},
   "source": [
    "Removing the rows with any NaN"
   ]
  },
  {
   "cell_type": "code",
   "execution_count": 91,
   "metadata": {},
   "outputs": [
    {
     "data": {
      "text/html": [
       "<div>\n",
       "<style scoped>\n",
       "    .dataframe tbody tr th:only-of-type {\n",
       "        vertical-align: middle;\n",
       "    }\n",
       "\n",
       "    .dataframe tbody tr th {\n",
       "        vertical-align: top;\n",
       "    }\n",
       "\n",
       "    .dataframe thead th {\n",
       "        text-align: right;\n",
       "    }\n",
       "</style>\n",
       "<table border=\"1\" class=\"dataframe\">\n",
       "  <thead>\n",
       "    <tr style=\"text-align: right;\">\n",
       "      <th></th>\n",
       "      <th>Month</th>\n",
       "      <th>Longitude</th>\n",
       "      <th>Latitude</th>\n",
       "      <th>Location</th>\n",
       "      <th>LSOA code</th>\n",
       "      <th>LSOA name</th>\n",
       "      <th>Crime type</th>\n",
       "    </tr>\n",
       "  </thead>\n",
       "  <tbody>\n",
       "    <tr>\n",
       "      <th>0</th>\n",
       "      <td>2021-05</td>\n",
       "      <td>-0.109582</td>\n",
       "      <td>51.522017</td>\n",
       "      <td>On or near Clerkenwell Road</td>\n",
       "      <td>E01000916</td>\n",
       "      <td>Camden 027B</td>\n",
       "      <td>Drugs</td>\n",
       "    </tr>\n",
       "    <tr>\n",
       "      <th>1</th>\n",
       "      <td>2021-05</td>\n",
       "      <td>-0.111962</td>\n",
       "      <td>51.518494</td>\n",
       "      <td>On or near Nightclub</td>\n",
       "      <td>E01000914</td>\n",
       "      <td>Camden 028B</td>\n",
       "      <td>Public order</td>\n",
       "    </tr>\n",
       "    <tr>\n",
       "      <th>2</th>\n",
       "      <td>2021-05</td>\n",
       "      <td>-0.113256</td>\n",
       "      <td>51.516824</td>\n",
       "      <td>On or near Old Square</td>\n",
       "      <td>E01000914</td>\n",
       "      <td>Camden 028B</td>\n",
       "      <td>Theft from the person</td>\n",
       "    </tr>\n",
       "    <tr>\n",
       "      <th>3</th>\n",
       "      <td>2021-05</td>\n",
       "      <td>-0.097601</td>\n",
       "      <td>51.520699</td>\n",
       "      <td>On or near Carthusian Street</td>\n",
       "      <td>E01000001</td>\n",
       "      <td>City of London 001A</td>\n",
       "      <td>Anti-social behaviour</td>\n",
       "    </tr>\n",
       "    <tr>\n",
       "      <th>4</th>\n",
       "      <td>2021-05</td>\n",
       "      <td>-0.097736</td>\n",
       "      <td>51.520206</td>\n",
       "      <td>On or near Conference/Exhibition Centre</td>\n",
       "      <td>E01000001</td>\n",
       "      <td>City of London 001A</td>\n",
       "      <td>Anti-social behaviour</td>\n",
       "    </tr>\n",
       "    <tr>\n",
       "      <th>...</th>\n",
       "      <td>...</td>\n",
       "      <td>...</td>\n",
       "      <td>...</td>\n",
       "      <td>...</td>\n",
       "      <td>...</td>\n",
       "      <td>...</td>\n",
       "      <td>...</td>\n",
       "    </tr>\n",
       "    <tr>\n",
       "      <th>659</th>\n",
       "      <td>2022-05</td>\n",
       "      <td>-0.074901</td>\n",
       "      <td>51.506255</td>\n",
       "      <td>On or near A100</td>\n",
       "      <td>E01004293</td>\n",
       "      <td>Tower Hamlets 027B</td>\n",
       "      <td>Other theft</td>\n",
       "    </tr>\n",
       "    <tr>\n",
       "      <th>660</th>\n",
       "      <td>2022-05</td>\n",
       "      <td>-0.079130</td>\n",
       "      <td>51.507808</td>\n",
       "      <td>On or near Ferry Terminal</td>\n",
       "      <td>E01004293</td>\n",
       "      <td>Tower Hamlets 027B</td>\n",
       "      <td>Robbery</td>\n",
       "    </tr>\n",
       "    <tr>\n",
       "      <th>661</th>\n",
       "      <td>2022-05</td>\n",
       "      <td>-0.079130</td>\n",
       "      <td>51.507808</td>\n",
       "      <td>On or near Ferry Terminal</td>\n",
       "      <td>E01004293</td>\n",
       "      <td>Tower Hamlets 027B</td>\n",
       "      <td>Robbery</td>\n",
       "    </tr>\n",
       "    <tr>\n",
       "      <th>662</th>\n",
       "      <td>2022-05</td>\n",
       "      <td>-0.074901</td>\n",
       "      <td>51.506255</td>\n",
       "      <td>On or near A100</td>\n",
       "      <td>E01004293</td>\n",
       "      <td>Tower Hamlets 027B</td>\n",
       "      <td>Theft from the person</td>\n",
       "    </tr>\n",
       "    <tr>\n",
       "      <th>663</th>\n",
       "      <td>2022-05</td>\n",
       "      <td>-0.074901</td>\n",
       "      <td>51.506255</td>\n",
       "      <td>On or near A100</td>\n",
       "      <td>E01004293</td>\n",
       "      <td>Tower Hamlets 027B</td>\n",
       "      <td>Theft from the person</td>\n",
       "    </tr>\n",
       "  </tbody>\n",
       "</table>\n",
       "<p>7856 rows × 7 columns</p>\n",
       "</div>"
      ],
      "text/plain": [
       "       Month  Longitude   Latitude                                 Location  \\\n",
       "0    2021-05  -0.109582  51.522017              On or near Clerkenwell Road   \n",
       "1    2021-05  -0.111962  51.518494                     On or near Nightclub   \n",
       "2    2021-05  -0.113256  51.516824                    On or near Old Square   \n",
       "3    2021-05  -0.097601  51.520699             On or near Carthusian Street   \n",
       "4    2021-05  -0.097736  51.520206  On or near Conference/Exhibition Centre   \n",
       "..       ...        ...        ...                                      ...   \n",
       "659  2022-05  -0.074901  51.506255                          On or near A100   \n",
       "660  2022-05  -0.079130  51.507808                On or near Ferry Terminal   \n",
       "661  2022-05  -0.079130  51.507808                On or near Ferry Terminal   \n",
       "662  2022-05  -0.074901  51.506255                          On or near A100   \n",
       "663  2022-05  -0.074901  51.506255                          On or near A100   \n",
       "\n",
       "     LSOA code            LSOA name             Crime type  \n",
       "0    E01000916          Camden 027B                  Drugs  \n",
       "1    E01000914          Camden 028B           Public order  \n",
       "2    E01000914          Camden 028B  Theft from the person  \n",
       "3    E01000001  City of London 001A  Anti-social behaviour  \n",
       "4    E01000001  City of London 001A  Anti-social behaviour  \n",
       "..         ...                  ...                    ...  \n",
       "659  E01004293   Tower Hamlets 027B            Other theft  \n",
       "660  E01004293   Tower Hamlets 027B                Robbery  \n",
       "661  E01004293   Tower Hamlets 027B                Robbery  \n",
       "662  E01004293   Tower Hamlets 027B  Theft from the person  \n",
       "663  E01004293   Tower Hamlets 027B  Theft from the person  \n",
       "\n",
       "[7856 rows x 7 columns]"
      ]
     },
     "execution_count": 91,
     "metadata": {},
     "output_type": "execute_result"
    }
   ],
   "source": [
    "data = data.dropna()\n",
    "data"
   ]
  },
  {
   "attachments": {},
   "cell_type": "markdown",
   "metadata": {},
   "source": [
    "Looking at the data type of each column"
   ]
  },
  {
   "cell_type": "code",
   "execution_count": 92,
   "metadata": {},
   "outputs": [
    {
     "name": "stdout",
     "output_type": "stream",
     "text": [
      "<class 'pandas.core.frame.DataFrame'>\n",
      "Int64Index: 7856 entries, 0 to 663\n",
      "Data columns (total 7 columns):\n",
      " #   Column      Non-Null Count  Dtype  \n",
      "---  ------      --------------  -----  \n",
      " 0   Month       7856 non-null   object \n",
      " 1   Longitude   7856 non-null   float64\n",
      " 2   Latitude    7856 non-null   float64\n",
      " 3   Location    7856 non-null   object \n",
      " 4   LSOA code   7856 non-null   object \n",
      " 5   LSOA name   7856 non-null   object \n",
      " 6   Crime type  7856 non-null   object \n",
      "dtypes: float64(2), object(5)\n",
      "memory usage: 491.0+ KB\n"
     ]
    }
   ],
   "source": [
    "data.info()"
   ]
  },
  {
   "attachments": {},
   "cell_type": "markdown",
   "metadata": {},
   "source": [
    "Finding how many LSOA are there and what are there"
   ]
  },
  {
   "cell_type": "code",
   "execution_count": 93,
   "metadata": {},
   "outputs": [
    {
     "name": "stdout",
     "output_type": "stream",
     "text": [
      "Number of LSOA:  60\n"
     ]
    },
    {
     "data": {
      "text/plain": [
       "array(['Camden 027B', 'Camden 028B', 'City of London 001A',\n",
       "       'City of London 001B', 'City of London 001C',\n",
       "       'City of London 001E', 'City of London 001F',\n",
       "       'City of London 001G', 'Hackney 027F', 'Islington 022D',\n",
       "       'Islington 023D', 'Islington 023E', 'Southwark 002C',\n",
       "       'Tower Hamlets 009C', 'Tower Hamlets 015B', 'Tower Hamlets 021C',\n",
       "       'Tower Hamlets 021D', 'Tower Hamlets 021F', 'Tower Hamlets 027B',\n",
       "       'Westminster 018A', 'Hackney 025D', 'Hackney 027G',\n",
       "       'Islington 022H', 'Southwark 003H', 'Tower Hamlets 019C',\n",
       "       'Westminster 018B', 'Haringey 015C', 'Tower Hamlets 018D',\n",
       "       'Islington 014C', 'Newham 013G', 'Southwark 001C',\n",
       "       'Tower Hamlets 021E', 'Westminster 020C', 'Camden 024B',\n",
       "       'Hackney 019A', 'Hackney 022D', 'Southwark 003E', 'Southwark 006E',\n",
       "       'Tower Hamlets 017A', 'Islington 003B', 'Tower Hamlets 025B',\n",
       "       'Waltham Forest 015B', 'Westminster 018C', 'Tower Hamlets 015E',\n",
       "       'Tower Hamlets 026B', 'Waltham Forest 026E', 'Tower Hamlets 020C',\n",
       "       'Hackney 020D', 'Hackney 027D', 'Islington 019A',\n",
       "       'Tower Hamlets 014B', 'Haringey 032D', 'Islington 022C',\n",
       "       'Tower Hamlets 007C', 'Newham 012A', 'Southwark 002B',\n",
       "       'Tower Hamlets 012E', 'Tower Hamlets 021A', 'Waltham Forest 023C',\n",
       "       'Tower Hamlets 015A'], dtype=object)"
      ]
     },
     "execution_count": 93,
     "metadata": {},
     "output_type": "execute_result"
    }
   ],
   "source": [
    "print('Number of LSOA: ', data['LSOA name'].nunique())\n",
    "data['LSOA name'].unique()"
   ]
  },
  {
   "attachments": {},
   "cell_type": "markdown",
   "metadata": {},
   "source": [
    "## 3. EDA Data"
   ]
  },
  {
   "cell_type": "code",
   "execution_count": 94,
   "metadata": {},
   "outputs": [
    {
     "data": {
      "text/plain": [
       "array(['Drugs', 'Public order', 'Theft from the person',\n",
       "       'Anti-social behaviour', 'Bicycle theft', 'Burglary',\n",
       "       'Vehicle crime', 'Criminal damage and arson', 'Other theft',\n",
       "       'Violence and sexual offences', 'Other crime',\n",
       "       'Possession of weapons', 'Robbery', 'Shoplifting'], dtype=object)"
      ]
     },
     "execution_count": 94,
     "metadata": {},
     "output_type": "execute_result"
    }
   ],
   "source": [
    "crime = data['Crime type'].unique()\n",
    "crime"
   ]
  },
  {
   "cell_type": "code",
   "execution_count": 95,
   "metadata": {},
   "outputs": [
    {
     "data": {
      "text/html": [
       "<div>\n",
       "<style scoped>\n",
       "    .dataframe tbody tr th:only-of-type {\n",
       "        vertical-align: middle;\n",
       "    }\n",
       "\n",
       "    .dataframe tbody tr th {\n",
       "        vertical-align: top;\n",
       "    }\n",
       "\n",
       "    .dataframe thead th {\n",
       "        text-align: right;\n",
       "    }\n",
       "</style>\n",
       "<table border=\"1\" class=\"dataframe\">\n",
       "  <thead>\n",
       "    <tr style=\"text-align: right;\">\n",
       "      <th></th>\n",
       "      <th>Crime type</th>\n",
       "    </tr>\n",
       "  </thead>\n",
       "  <tbody>\n",
       "    <tr>\n",
       "      <th>Violence and sexual offences</th>\n",
       "      <td>1355</td>\n",
       "    </tr>\n",
       "    <tr>\n",
       "      <th>Other theft</th>\n",
       "      <td>1228</td>\n",
       "    </tr>\n",
       "    <tr>\n",
       "      <th>Anti-social behaviour</th>\n",
       "      <td>984</td>\n",
       "    </tr>\n",
       "    <tr>\n",
       "      <th>Theft from the person</th>\n",
       "      <td>977</td>\n",
       "    </tr>\n",
       "    <tr>\n",
       "      <th>Shoplifting</th>\n",
       "      <td>750</td>\n",
       "    </tr>\n",
       "    <tr>\n",
       "      <th>Drugs</th>\n",
       "      <td>618</td>\n",
       "    </tr>\n",
       "    <tr>\n",
       "      <th>Public order</th>\n",
       "      <td>562</td>\n",
       "    </tr>\n",
       "    <tr>\n",
       "      <th>Criminal damage and arson</th>\n",
       "      <td>311</td>\n",
       "    </tr>\n",
       "    <tr>\n",
       "      <th>Bicycle theft</th>\n",
       "      <td>274</td>\n",
       "    </tr>\n",
       "    <tr>\n",
       "      <th>Burglary</th>\n",
       "      <td>268</td>\n",
       "    </tr>\n",
       "    <tr>\n",
       "      <th>Vehicle crime</th>\n",
       "      <td>244</td>\n",
       "    </tr>\n",
       "    <tr>\n",
       "      <th>Robbery</th>\n",
       "      <td>122</td>\n",
       "    </tr>\n",
       "    <tr>\n",
       "      <th>Other crime</th>\n",
       "      <td>107</td>\n",
       "    </tr>\n",
       "    <tr>\n",
       "      <th>Possession of weapons</th>\n",
       "      <td>56</td>\n",
       "    </tr>\n",
       "  </tbody>\n",
       "</table>\n",
       "</div>"
      ],
      "text/plain": [
       "                              Crime type\n",
       "Violence and sexual offences        1355\n",
       "Other theft                         1228\n",
       "Anti-social behaviour                984\n",
       "Theft from the person                977\n",
       "Shoplifting                          750\n",
       "Drugs                                618\n",
       "Public order                         562\n",
       "Criminal damage and arson            311\n",
       "Bicycle theft                        274\n",
       "Burglary                             268\n",
       "Vehicle crime                        244\n",
       "Robbery                              122\n",
       "Other crime                          107\n",
       "Possession of weapons                 56"
      ]
     },
     "execution_count": 95,
     "metadata": {},
     "output_type": "execute_result"
    }
   ],
   "source": [
    "crime_type = pd.DataFrame(data['Crime type'].value_counts())\n",
    "crime_type.iloc[:,]\n"
   ]
  },
  {
   "attachments": {},
   "cell_type": "markdown",
   "metadata": {},
   "source": [
    "Plotting the distribution of rate crime type for each month"
   ]
  },
  {
   "cell_type": "code",
   "execution_count": 96,
   "metadata": {},
   "outputs": [
    {
     "data": {
      "text/plain": [
       "<matplotlib.legend.Legend at 0x25587d109d0>"
      ]
     },
     "execution_count": 96,
     "metadata": {},
     "output_type": "execute_result"
    },
    {
     "data": {
      "image/png": "[encoded data removed]",
      "text/plain": [
       "<Figure size 2000x700 with 1 Axes>"
      ]
     },
     "metadata": {},
     "output_type": "display_data"
    }
   ],
   "source": [
    "sns.set(rc={'figure.figsize': (20,7)})\n",
    "graph = sns.countplot(x ='Month', data = data, hue = 'Crime type', palette= 'hls').set(title='Distribution of Crime Types (May 2021-May 2022)')\n",
    "plt.legend(bbox_to_anchor=(1.01, 0.7), loc='upper left', borderaxespad=0, title='Crime Type')"
   ]
  },
  {
   "attachments": {},
   "cell_type": "markdown",
   "metadata": {},
   "source": [
    "Violence and Sexual Offences is choosen as it is the highest type of crime rate "
   ]
  },
  {
   "cell_type": "code",
   "execution_count": 97,
   "metadata": {},
   "outputs": [
    {
     "data": {
      "text/html": [
       "<div>\n",
       "<style scoped>\n",
       "    .dataframe tbody tr th:only-of-type {\n",
       "        vertical-align: middle;\n",
       "    }\n",
       "\n",
       "    .dataframe tbody tr th {\n",
       "        vertical-align: top;\n",
       "    }\n",
       "\n",
       "    .dataframe thead th {\n",
       "        text-align: right;\n",
       "    }\n",
       "</style>\n",
       "<table border=\"1\" class=\"dataframe\">\n",
       "  <thead>\n",
       "    <tr style=\"text-align: right;\">\n",
       "      <th></th>\n",
       "      <th>Month</th>\n",
       "      <th>Longitude</th>\n",
       "      <th>Latitude</th>\n",
       "      <th>Location</th>\n",
       "      <th>LSOA code</th>\n",
       "      <th>LSOA name</th>\n",
       "      <th>Crime type</th>\n",
       "    </tr>\n",
       "  </thead>\n",
       "  <tbody>\n",
       "    <tr>\n",
       "      <th>42</th>\n",
       "      <td>2021-05</td>\n",
       "      <td>-0.092297</td>\n",
       "      <td>51.518949</td>\n",
       "      <td>On or near Park/Open Space</td>\n",
       "      <td>E01000002</td>\n",
       "      <td>City of London 001B</td>\n",
       "      <td>Violence and sexual offences</td>\n",
       "    </tr>\n",
       "    <tr>\n",
       "      <th>47</th>\n",
       "      <td>2021-05</td>\n",
       "      <td>-0.094468</td>\n",
       "      <td>51.521853</td>\n",
       "      <td>On or near Golden Lane</td>\n",
       "      <td>E01000003</td>\n",
       "      <td>City of London 001C</td>\n",
       "      <td>Violence and sexual offences</td>\n",
       "    </tr>\n",
       "    <tr>\n",
       "      <th>74</th>\n",
       "      <td>2021-05</td>\n",
       "      <td>-0.074210</td>\n",
       "      <td>51.511711</td>\n",
       "      <td>On or near Portsoken Street</td>\n",
       "      <td>E01000005</td>\n",
       "      <td>City of London 001E</td>\n",
       "      <td>Violence and sexual offences</td>\n",
       "    </tr>\n",
       "    <tr>\n",
       "      <th>75</th>\n",
       "      <td>2021-05</td>\n",
       "      <td>-0.076435</td>\n",
       "      <td>51.513627</td>\n",
       "      <td>On or near Aldgate</td>\n",
       "      <td>E01000005</td>\n",
       "      <td>City of London 001E</td>\n",
       "      <td>Violence and sexual offences</td>\n",
       "    </tr>\n",
       "    <tr>\n",
       "      <th>76</th>\n",
       "      <td>2021-05</td>\n",
       "      <td>-0.075722</td>\n",
       "      <td>51.511053</td>\n",
       "      <td>On or near Crescent</td>\n",
       "      <td>E01000005</td>\n",
       "      <td>City of London 001E</td>\n",
       "      <td>Violence and sexual offences</td>\n",
       "    </tr>\n",
       "    <tr>\n",
       "      <th>...</th>\n",
       "      <td>...</td>\n",
       "      <td>...</td>\n",
       "      <td>...</td>\n",
       "      <td>...</td>\n",
       "      <td>...</td>\n",
       "      <td>...</td>\n",
       "      <td>...</td>\n",
       "    </tr>\n",
       "    <tr>\n",
       "      <th>650</th>\n",
       "      <td>2022-05</td>\n",
       "      <td>-0.091732</td>\n",
       "      <td>51.521080</td>\n",
       "      <td>On or near Nightclub</td>\n",
       "      <td>E01002704</td>\n",
       "      <td>Islington 023D</td>\n",
       "      <td>Violence and sexual offences</td>\n",
       "    </tr>\n",
       "    <tr>\n",
       "      <th>651</th>\n",
       "      <td>2022-05</td>\n",
       "      <td>-0.091732</td>\n",
       "      <td>51.521080</td>\n",
       "      <td>On or near Nightclub</td>\n",
       "      <td>E01002704</td>\n",
       "      <td>Islington 023D</td>\n",
       "      <td>Violence and sexual offences</td>\n",
       "    </tr>\n",
       "    <tr>\n",
       "      <th>653</th>\n",
       "      <td>2022-05</td>\n",
       "      <td>-0.077601</td>\n",
       "      <td>51.518799</td>\n",
       "      <td>On or near Steward Street</td>\n",
       "      <td>E01004307</td>\n",
       "      <td>Tower Hamlets 015B</td>\n",
       "      <td>Violence and sexual offences</td>\n",
       "    </tr>\n",
       "    <tr>\n",
       "      <th>654</th>\n",
       "      <td>2022-05</td>\n",
       "      <td>-0.077601</td>\n",
       "      <td>51.518799</td>\n",
       "      <td>On or near Steward Street</td>\n",
       "      <td>E01004307</td>\n",
       "      <td>Tower Hamlets 015B</td>\n",
       "      <td>Violence and sexual offences</td>\n",
       "    </tr>\n",
       "    <tr>\n",
       "      <th>655</th>\n",
       "      <td>2022-05</td>\n",
       "      <td>-0.078591</td>\n",
       "      <td>51.520290</td>\n",
       "      <td>On or near Spital Yard</td>\n",
       "      <td>E01004307</td>\n",
       "      <td>Tower Hamlets 015B</td>\n",
       "      <td>Violence and sexual offences</td>\n",
       "    </tr>\n",
       "  </tbody>\n",
       "</table>\n",
       "<p>1355 rows × 7 columns</p>\n",
       "</div>"
      ],
      "text/plain": [
       "       Month  Longitude   Latitude                     Location  LSOA code  \\\n",
       "42   2021-05  -0.092297  51.518949   On or near Park/Open Space  E01000002   \n",
       "47   2021-05  -0.094468  51.521853       On or near Golden Lane  E01000003   \n",
       "74   2021-05  -0.074210  51.511711  On or near Portsoken Street  E01000005   \n",
       "75   2021-05  -0.076435  51.513627           On or near Aldgate  E01000005   \n",
       "76   2021-05  -0.075722  51.511053          On or near Crescent  E01000005   \n",
       "..       ...        ...        ...                          ...        ...   \n",
       "650  2022-05  -0.091732  51.521080         On or near Nightclub  E01002704   \n",
       "651  2022-05  -0.091732  51.521080         On or near Nightclub  E01002704   \n",
       "653  2022-05  -0.077601  51.518799    On or near Steward Street  E01004307   \n",
       "654  2022-05  -0.077601  51.518799    On or near Steward Street  E01004307   \n",
       "655  2022-05  -0.078591  51.520290       On or near Spital Yard  E01004307   \n",
       "\n",
       "               LSOA name                    Crime type  \n",
       "42   City of London 001B  Violence and sexual offences  \n",
       "47   City of London 001C  Violence and sexual offences  \n",
       "74   City of London 001E  Violence and sexual offences  \n",
       "75   City of London 001E  Violence and sexual offences  \n",
       "76   City of London 001E  Violence and sexual offences  \n",
       "..                   ...                           ...  \n",
       "650       Islington 023D  Violence and sexual offences  \n",
       "651       Islington 023D  Violence and sexual offences  \n",
       "653   Tower Hamlets 015B  Violence and sexual offences  \n",
       "654   Tower Hamlets 015B  Violence and sexual offences  \n",
       "655   Tower Hamlets 015B  Violence and sexual offences  \n",
       "\n",
       "[1355 rows x 7 columns]"
      ]
     },
     "execution_count": 97,
     "metadata": {},
     "output_type": "execute_result"
    }
   ],
   "source": [
    "vso =data[data['Crime type'].str.startswith('Violence and sexual offences')]\n",
    "vso"
   ]
  },
  {
   "attachments": {},
   "cell_type": "markdown",
   "metadata": {},
   "source": [
    "## 4. Preprocessing Shapefile"
   ]
  },
  {
   "cell_type": "code",
   "execution_count": 98,
   "metadata": {},
   "outputs": [
    {
     "ename": "NameError",
     "evalue": "name 'LSOA_2011_London_gen_MHW' is not defined",
     "output_type": "error",
     "traceback": [
      "\u001b[1;31m---------------------------------------------------------------------------\u001b[0m",
      "\u001b[1;31mNameError\u001b[0m                                 Traceback (most recent call last)",
      "Cell \u001b[1;32mIn[98], line 1\u001b[0m\n\u001b[1;32m----> 1\u001b[0m city_of_london \u001b[39m=\u001b[39m gpd\u001b[39m.\u001b[39mread_file(LSOA_2011_London_gen_MHW\u001b[39m.\u001b[39mshp)\n",
      "\u001b[1;31mNameError\u001b[0m: name 'LSOA_2011_London_gen_MHW' is not defined"
     ]
    }
   ],
   "source": [
    "city_of_london = gpd.read_file(LSOA_2011_London_gen_MHW.shp)"
   ]
  },
  {
   "attachments": {},
   "cell_type": "markdown",
   "metadata": {},
   "source": [
    "## 5. Transforming CRS"
   ]
  }
 ],
 "metadata": {
  "kernelspec": {
   "display_name": "geospatial",
   "language": "python",
   "name": "python3"
  },
  "language_info": {
   "codemirror_mode": {
    "name": "ipython",
    "version": 3
   },
   "file_extension": ".py",
   "mimetype": "text/x-python",
   "name": "python",
   "nbconvert_exporter": "python",
   "pygments_lexer": "ipython3",
   "version": "3.8.16"
  },
  "orig_nbformat": 4
 },
 "nbformat": 4,
 "nbformat_minor": 2
}
